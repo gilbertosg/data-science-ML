{
 "cells": [
  {
   "cell_type": "markdown",
   "metadata": {},
   "source": [
    "## Table of Contents\n",
    "\n",
    "1. **[Introduction to Functions](#functions)**\n",
    "2. **[Use comments to scaffold your code](#scaffold)**\n",
    "3. **[Exercise: Create a function that accepts two arguments](#exercise)**\n",
    "4. **[Conclusion](#conclusion)**"
   ]
  },
  {
   "cell_type": "markdown",
   "metadata": {},
   "source": [
    "<a id=\"functions\"> </a>\n",
    "### 1. Introduction to Functions"
   ]
  },
  {
   "cell_type": "code",
   "execution_count": 8,
   "metadata": {},
   "outputs": [
    {
     "name": "stdout",
     "output_type": "stream",
     "text": [
      "Hello Gilberto. Your lucky number is 72\n",
      "Hello Leticia. Your lucky number is 63\n"
     ]
    }
   ],
   "source": [
    "# This code does the same thing for two different people.\n",
    "name = \"Gilberto\"\n",
    "number = len(name)*9\n",
    "print(\"Hello \" + name + \". Your lucky number is \" + str(number))\n",
    "\n",
    "name = \"Leticia\"\n",
    "number = len(name)*9\n",
    "print(\"Hello \" + name + \". Your lucky number is \" + str(number))"
   ]
  },
  {
   "cell_type": "code",
   "execution_count": 9,
   "metadata": {},
   "outputs": [
    {
     "name": "stdout",
     "output_type": "stream",
     "text": [
      "Hello Gilberto. Your lucky number is 72\n",
      "Hello Leticia. Your lucky number is 63\n"
     ]
    }
   ],
   "source": [
    "# Define a function that simplifies the code above, making it reusable\n",
    "def lucky_number(name):\n",
    "    number = len(name)*9\n",
    "    print(\"Hello \" + name + \". Your lucky number is \" + str(number))\n",
    "\n",
    "lucky_number(\"Gilberto\")\n",
    "lucky_number(\"Leticia\")"
   ]
  },
  {
   "cell_type": "code",
   "execution_count": 10,
   "metadata": {},
   "outputs": [
    {
     "name": "stdout",
     "output_type": "stream",
     "text": [
      "120\n"
     ]
    }
   ],
   "source": [
    "# This function takes an integer as an input and returns its factorial\n",
    "def factorial(n):\n",
    "    # Exclude 0 as product, start with 1\n",
    "    y = 1\n",
    "    for i in range(int(n)):\n",
    "        y = y*(i+1)\n",
    "    return y\n",
    "\n",
    "# Enter a numerical value between 1-9 in the command line that appears.\n",
    "input_num = input()\n",
    "# Apply factorial function to an integer input\n",
    "print(factorial(input_num))"
   ]
  },
  {
   "cell_type": "markdown",
   "metadata": {},
   "source": [
    "<a id=\"scaffold\"> </a>\n",
    "### 2. Use comments to scaffold your code"
   ]
  },
  {
   "cell_type": "code",
   "execution_count": 11,
   "metadata": {},
   "outputs": [
    {
     "data": {
      "text/plain": [
       "3.92"
      ]
     },
     "execution_count": 11,
     "metadata": {},
     "output_type": "execute_result"
    }
   ],
   "source": [
    "def seed_calculator(fountain_side, grass_width):\n",
    "    \"\"\"\n",
    "    Calculate number of kilograms of grass seed needed for\n",
    "    a border around a square fountain.\n",
    "\n",
    "        Parameters:\n",
    "            fountain_side (num): length of 1 side of fountain in meters\n",
    "            grass_width (num): width of grass border in meters\n",
    "\n",
    "        Returns:\n",
    "            seed (float): amount of seed (kg) needed for grass border\n",
    "    \"\"\"\n",
    "    # Area of fountain\n",
    "    fountain_area = fountain_side**2\n",
    "    # Total area\n",
    "    total_area = (fountain_side + 2 * grass_width)**2\n",
    "    # Area of grass border\n",
    "    grass_area = total_area - fountain_area\n",
    "    # Amount of seed needed (35 g/sq.m)\n",
    "    seed = grass_area * 35\n",
    "    # Convert to kg\n",
    "    seed = seed / 1000\n",
    "\n",
    "    return seed\n",
    "\n",
    "seed_calculator(12, 2)"
   ]
  },
  {
   "cell_type": "markdown",
   "metadata": {},
   "source": [
    "<a id=\"exercise\"> </a>\n",
    "### 3. Exercise: Create a function that accepts two values\n",
    "\n",
    "You learn that the price of tickets is more expensive for opening night, and now you need to create a function that will accept two values and return their total value.\n",
    "\n",
    "#### 3a: Refine the `total_sales` function\n",
    "\n",
    "*  Update your `total_sales` function so it accepts two parameters:\n",
    "    * `price` for the price per ticket\n",
    "    * `num_tickets` for the total number of tickets.\n",
    "\n",
    "* Return the product of the two arguments. Use the Python `round()` function to round the returned value to two decimal places. Refer to the [round() Python documentation](https://docs.python.org/3/library/functions.html#round) for more information regarding this function.\n",
    "\n",
    "#### 3b: Call the function\n",
    "\n",
    "Then, call the function with the value of `15.99` for `price` and `1001` for the number of tickets sold (`num_tickets`).\n",
    "\n",
    "Example:\n",
    "\n",
    "```\n",
    "[IN]  total_sales(15.99, 1001)\n",
    "[OUT] 16005.99\n",
    "```"
   ]
  },
  {
   "cell_type": "code",
   "execution_count": 12,
   "metadata": {},
   "outputs": [
    {
     "data": {
      "text/plain": [
       "16005.99"
      ]
     },
     "execution_count": 12,
     "metadata": {},
     "output_type": "execute_result"
    }
   ],
   "source": [
    "# Refine the `total_sales` function\n",
    "def total_sales(price, num_tickets):\n",
    "    return round(price * num_tickets, 2)\n",
    "\n",
    "total_sales(15.99, 1001)"
   ]
  },
  {
   "cell_type": "markdown",
   "metadata": {},
   "source": [
    "<a id=\"conclusion\"> </a>\n",
    "### 4. Conclusion\n",
    "\n",
    "**Functions:**\n",
    "- Python allows you to define and call functions that you create.\n",
    "- The main components of a function are the definition statement, the body, and the output statement (usually `return` or `print`).\n",
    "    - The function header includes the `def` keyword, followed by the name of the function, followed by parantheses, followed by a colon.\n",
    "    - The function body includes an indented block of code that instructs the computer on what to do when the function is called.\n",
    "    - The output statement is what the function should produce as a result when executed.\n",
    "- Functions allow you to reuse common code.\n",
    "    - Frequently used calculations can be saved to a function and reused without writing out the equation multiple times.\n",
    "- Functions accept single or multiple parameters.\n",
    "    - Functions can be customized to accept more than one parameter and perform calculations on them, which allows greater flexibility when working with fluctuating values.\n",
    "- Including functions such as `round()` to the return statement helps keep calculated values tidy and easy to read.\n",
    "- Scaffolding functions with code comments helps improve readibility.\n",
    "    - Clearly commented code explains how the code works as well as the intended results."
   ]
  },
  {
   "cell_type": "markdown",
   "metadata": {},
   "source": []
  }
 ],
 "metadata": {
  "kernelspec": {
   "display_name": "venv",
   "language": "python",
   "name": "python3"
  },
  "language_info": {
   "codemirror_mode": {
    "name": "ipython",
    "version": 3
   },
   "file_extension": ".py",
   "mimetype": "text/x-python",
   "name": "python",
   "nbconvert_exporter": "python",
   "pygments_lexer": "ipython3",
   "version": "3.11.4"
  },
  "orig_nbformat": 4
 },
 "nbformat": 4,
 "nbformat_minor": 2
}
