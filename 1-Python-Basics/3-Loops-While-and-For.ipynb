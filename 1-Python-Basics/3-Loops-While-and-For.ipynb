{
 "cells": [
  {
   "cell_type": "markdown",
   "metadata": {},
   "source": [
    "## Loops\n",
    "\n",
    "*While*\n",
    "While loops are useful because they allow you to perform an action or evaluation repeatedly until a given condition or requirement is met, and then they stop. \n",
    "\n",
    "*For*\n",
    "For loops are like while loops, but instead of looping continuously until a condition is met, for loops iterate over each element of an iterable sequence, allowing you to perform an action or evaluation with each iteration.\n",
    "\n",
    "1. **[Introduction to While Loops](#while)**\n",
    "2. **[Introduction to For Loops](#for)**\n",
    "3. **[Exercises: While Loops](#exercise-while)**\n",
    "4. **[Exercise 2: Add logical branching to your function](#exercise-for)**\n",
    "5. **[Conclusion](#conclusion)**\n",
    "\n",
    "Reference guide: <a href=\"https://docs.google.com/document/d/1xZ3O4dXMPap6rMFcI1eO1IXVUMNQYc4Q/edit?usp=drive_link&ouid=117076395228202702809&rtpof=true&sd=true\">link</a>\n"
   ]
  },
  {
   "cell_type": "markdown",
   "metadata": {},
   "source": [
    "<a id=\"while\"> </a>\n",
    "### 1. Introduction to while loops"
   ]
  },
  {
   "cell_type": "code",
   "execution_count": 1,
   "metadata": {},
   "outputs": [
    {
     "name": "stdout",
     "output_type": "stream",
     "text": [
      "Not there yet, x=0\n",
      "x=1\n",
      "Not there yet, x=1\n",
      "x=2\n",
      "Not there yet, x=2\n",
      "x=3\n",
      "Not there yet, x=3\n",
      "x=4\n",
      "Not there yet, x=4\n",
      "x=5\n"
     ]
    }
   ],
   "source": [
    "# Instantiate a counter\n",
    "x = 0\n",
    "\n",
    "# Create a while loop that prints \"not there yet,\" increments x by 1, a \n",
    "#  and prints x until x reaches 5\n",
    "while x < 5:\n",
    "    print('Not there yet, x=' + str(x))\n",
    "    x = x + 1\n",
    "    print('x=' + str(x))"
   ]
  },
  {
   "cell_type": "code",
   "execution_count": 2,
   "metadata": {},
   "outputs": [
    {
     "name": "stdout",
     "output_type": "stream",
     "text": [
      "Guess a number between 1 and 25: \n",
      "Nope! Try again.\n",
      "Guess a number between 1 and 25: \n",
      "Nope! Try again.\n",
      "Guess a number between 1 and 25: \n",
      "Nope! Try again.\n",
      "Guess a number between 1 and 25: \n",
      "Nope! Try again.\n",
      "Guess a number between 1 and 25: \n",
      "You did not guess the number. The number was 17.\n"
     ]
    }
   ],
   "source": [
    "# Import the random module to be able to create a (pseudo) random number\n",
    "import random\n",
    "\n",
    "number = random.randint(1,25)                   # Generate random number\n",
    "number_of_guesses = 0                           # Instantiate guess counter\n",
    "\n",
    "while number_of_guesses < 5:\n",
    "    print('Guess a number between 1 and 25: ')  # Tell user to guess number\n",
    "    guess = input()                             # Produce the user input field\n",
    "    guess = int(guess)                          # Convert guess to integer\n",
    "    number_of_guesses += 1                      # Increment guess count by 1\n",
    "\n",
    "    if guess == number:                         # Break while loop if guess is correct\n",
    "        break\n",
    "    elif number_of_guesses == 5:                # Break while loop if guess limit reached\n",
    "        break\n",
    "    else:                                       # Tell user to try again\n",
    "        print('Nope! Try again.')\n",
    "\n",
    "# Message to display if correct\n",
    "if guess == number:\n",
    "    print('Correct! You guessed the number in ' + str(number_of_guesses) + ' tries!')\n",
    "# Message to display after 5 unsuccessful guesses\n",
    "else:\n",
    "    print('You did not guess the number. The number was ' + str(number) + '.')"
   ]
  },
  {
   "cell_type": "markdown",
   "metadata": {},
   "source": [
    "<a id=\"for\"> </a>\n",
    "### 2. Introduction to for loops"
   ]
  },
  {
   "cell_type": "code",
   "execution_count": 3,
   "metadata": {},
   "outputs": [
    {
     "name": "stdout",
     "output_type": "stream",
     "text": [
      "0\n",
      "1\n",
      "2\n",
      "3\n",
      "4\n"
     ]
    }
   ],
   "source": [
    "# Example of for loop with range() function\n",
    "for x in range(5):\n",
    "    print(x)"
   ]
  },
  {
   "cell_type": "code",
   "execution_count": 5,
   "metadata": {},
   "outputs": [
    {
     "name": "stdout",
     "output_type": "stream",
     "text": [
      "# Get started with Python\n",
      "\n",
      "# Week 1 - video 7 of 10\n",
      "\n",
      "# Input/Output: Data comes from different places\n",
      "\n",
      "\n",
      "\n",
      "#import this\n",
      "\n",
      "The Zen of Python, by Tim Peters\n",
      "\n",
      "\n",
      "\n",
      "Beautiful is better than ugly.\n",
      "\n",
      "Explicit is better than implicit.\n",
      "\n",
      "Simple is better than complex.\n",
      "\n",
      "Complex is better than complicated.\n",
      "\n",
      "Flat is better than nested.\n",
      "\n",
      "Sparse is better than dense.\n",
      "\n",
      "Readability counts.\n",
      "\n",
      "Special cases aren't special enough to break the rules.\n",
      "\n",
      "Although practicality beats purity.\n",
      "\n",
      "Errors should never pass silently.\n",
      "\n",
      "Unless explicitly silenced.\n",
      "\n",
      "In the face of ambiguity, refuse the temptation to guess.\n",
      "\n",
      "There should be one-- and preferably only one --obvious way to do it.\n",
      "\n",
      "Although that way may not be obvious at first unless you're Dutch.\n",
      "\n",
      "Now is better than never.\n",
      "\n",
      "Although never is often better than *right* now.\n",
      "\n",
      "If the implementation is hard to explain, it's a bad idea.\n",
      "\n",
      "If the implementation is easy to explain, it may be a good idea.\n",
      "\n",
      "Namespaces are one honking great idea -- let's do more of those!\n",
      "\n",
      "I'm done.\n"
     ]
    }
   ],
   "source": [
    "# Example of reading in a .txt file line by line with a for loop\n",
    "with open('datasets/zen_of_python.txt') as f:\n",
    "    for line in f:\n",
    "        print(line)\n",
    "\n",
    "print('\\nI\\'m done.')"
   ]
  },
  {
   "cell_type": "markdown",
   "metadata": {},
   "source": [
    "#### Loops with multiple range parameters\n",
    "The range() function is a function that takes three arguments: start, stop, step. Its output is an object belonging to the range class. If you only include one argument, it will be interpreted as the stop value. The start and step values by default will be zero and one, respectively. If you include two arguments, they will be interpreted as the start and stop values (again, with step being one by default). Note that the stop value is not included in the range that is returned."
   ]
  },
  {
   "cell_type": "code",
   "execution_count": 7,
   "metadata": {},
   "outputs": [
    {
     "name": "stdout",
     "output_type": "stream",
     "text": [
      "362880\n"
     ]
    }
   ],
   "source": [
    "# Use a for loop to calculate 9!\n",
    "product = 1\n",
    "for n in range(1, 10):\n",
    "    product = product * n\n",
    "\n",
    "print(product)"
   ]
  },
  {
   "cell_type": "code",
   "execution_count": 8,
   "metadata": {},
   "outputs": [
    {
     "name": "stdout",
     "output_type": "stream",
     "text": [
      "0 -17.77777777777778\n",
      "10 -12.222222222222221\n",
      "20 -6.666666666666667\n",
      "30 -1.1111111111111112\n",
      "40 4.444444444444445\n",
      "50 10.0\n",
      "60 15.555555555555555\n",
      "70 21.11111111111111\n",
      "80 26.666666666666668\n",
      "90 32.22222222222222\n",
      "100 37.77777777777778\n"
     ]
    }
   ],
   "source": [
    "# Define a function that converts Fahrenheit to Celsius.\n",
    "def to_celsius(x):\n",
    "     return (x-32) * 5/9\n",
    "\n",
    "# Create a table of Celsius-->Fahrenheit conversions every 10 degrees, 0-100\n",
    "for x in range(0, 101, 10):\n",
    "     print(x, to_celsius(x))"
   ]
  },
  {
   "cell_type": "markdown",
   "metadata": {},
   "source": [
    "<a id=\"exercise-while\"> </a>\n",
    "### 3. Exercises while loops\n",
    "\n",
    "#### Exercise 1: Iterate using `while` and `if`\n",
    "\n",
    "In the next warmup task, you'll use a `while` loop that has an `if` statement and some Boolean logic.\n",
    "\n",
    "* Write a `while` loop where `candy_purchased` begins at `0` and stops after 100 purchases have been made. Your code must:\n",
    "    * Increment `candy_purchased` by one with each iteration\n",
    "    * Print `'Candy purchased: {number}'` only when a multiple of 10 purchases have been made\n",
    "\n",
    "*Expected output:*\n",
    "```\n",
    "Candy purchased: 0\n",
    "Candy purchased: 10\n",
    "Candy purchased: 20\n",
    "Candy purchased: 30\n",
    "Candy purchased: 40\n",
    "Candy purchased: 50\n",
    "Candy purchased: 60\n",
    "Candy purchased: 70\n",
    "Candy purchased: 80\n",
    "Candy purchased: 90\n",
    "Candy purchased: 100\n",
    "```"
   ]
  },
  {
   "cell_type": "code",
   "execution_count": 9,
   "metadata": {},
   "outputs": [
    {
     "name": "stdout",
     "output_type": "stream",
     "text": [
      "Candy purchased: 0\n",
      "Candy purchased: 10\n",
      "Candy purchased: 20\n",
      "Candy purchased: 30\n",
      "Candy purchased: 40\n",
      "Candy purchased: 50\n",
      "Candy purchased: 60\n",
      "Candy purchased: 70\n",
      "Candy purchased: 80\n",
      "Candy purchased: 90\n",
      "Candy purchased: 100\n"
     ]
    }
   ],
   "source": [
    "candy_purchased = 0\n",
    "\n",
    "while candy_purchased <= 100:\n",
    "    if candy_purchased % 10 == 0:\n",
    "        print('Candy purchased: ' + str(candy_purchased))\n",
    "    candy_purchased += 1"
   ]
  },
  {
   "cell_type": "markdown",
   "metadata": {},
   "source": [
    "#### Exercise 2: Create a webpage timer function\n",
    "\n",
    "Now that you have some practice constructing `while` loops, it's time to take on the project you've been asked to complete for the theater.\n",
    "\n",
    "This task makes use of a function called `sleep()` from the `time` module. Whenever `sleep(n)` is executed, the program will pause for `n` seconds. Run the below cell as an illustrative example to help you understand."
   ]
  },
  {
   "cell_type": "code",
   "execution_count": 10,
   "metadata": {},
   "outputs": [
    {
     "name": "stdout",
     "output_type": "stream",
     "text": [
      "3\n",
      "2\n",
      "1\n",
      "0\n"
     ]
    }
   ],
   "source": [
    "from time import sleep\n",
    "\n",
    "n = 3\n",
    "while n >= 0:\n",
    "    print(n)\n",
    "    sleep(1)    # Execution pauses for 1 second\n",
    "    n = n - 1   # Decrement n by 1"
   ]
  },
  {
   "cell_type": "markdown",
   "metadata": {},
   "source": [
    "For the purposes of this task, pretend that 1 second = 1 minute, so the above cell would represent a 3-minute countdown.\n",
    "\n",
    "The movie theater has implemented online reservations through their website. From the seat selection page, customers have a limited amount of time to make their selection. You must write a function that counts down and reminds the user that they have limited time to make a selection. When time expires, it must print a timeout message.\n",
    "\n",
    "*  Instantiate a variable called `mins` and assign it a starting value of `10`.\n",
    "*  Write a `while` loop that uses the `sleep()` function and decrements `mins` from `10` minutes. For each minute:\n",
    "\n",
    "    *  Print how many minutes remain as an integer. <br/>**BUT:**\n",
    "    *  If there are 5 minutes left, print `Place your reservation soon! 5 minutes remaining.` instead of the integer.\n",
    "    *  If there are 2 minutes left, print `Don't lose your seats! 2 minutes remaining.` instead of the integer.\n",
    "    *  When zero minutes remain, print `User timed out.` instead of the integer.\n",
    "\n",
    "*Expected output:*\n",
    "\n",
    "```\n",
    "10\n",
    "9\n",
    "8\n",
    "7\n",
    "6\n",
    "Place your reservation soon! 5 minutes remaining.\n",
    "4\n",
    "3\n",
    "Don't lose your seats! 2 minutes remaining.\n",
    "1\n",
    "User timed out.\n",
    "```"
   ]
  },
  {
   "cell_type": "code",
   "execution_count": 12,
   "metadata": {},
   "outputs": [
    {
     "name": "stdout",
     "output_type": "stream",
     "text": [
      "10\n",
      "9\n",
      "8\n",
      "7\n",
      "6\n",
      "Place your reservation soon! 5 minutes remaining.\n",
      "4\n",
      "3\n",
      "Don't lose your seats! 2 minutes remaining.\n",
      "1\n",
      "User timed out.\n"
     ]
    }
   ],
   "source": [
    "from time import sleep\n",
    "\n",
    "### YOUR CODE HERE ###\n",
    "mins = 10\n",
    "\n",
    "while mins >= 0:\n",
    "    if mins == 5:\n",
    "        print('Place your reservation soon! 5 minutes remaining.')\n",
    "    elif mins == 2:\n",
    "        print('Don\\'t lose your seats! 2 minutes remaining.')\n",
    "    elif mins == 0:\n",
    "        print('User timed out.')\n",
    "    else:\n",
    "        print(mins)\n",
    "    mins -=1\n",
    "    sleep(1)"
   ]
  },
  {
   "cell_type": "markdown",
   "metadata": {},
   "source": [
    "<a id=\"exercise-for\"> </a>\n",
    "### 4. Exercises for loop\n",
    "\n",
    "#### Exercise 1: Iterating with `if`, `elif`, and `else`\n",
    "\n",
    "In your work as an analyst, you have received customer feedback for a newly launched product. The feedback is a numerical grade on a scale of 1-10, with 10 being the best. Understanding the number of customers who responded negatively, neutrally, or positively will help determine how to improve the product.\n",
    "\n",
    "*  Define a function called `score_counter` that accepts the following argument:\n",
    "    * `score_list` - a list of customer-submitted scores, where each score is an integer, 1-10\n",
    "\n",
    "*  The function must iterate over the elements of `score_list` and bin the scores into three bins:\n",
    "\n",
    "| Negative | Neutral | Positive |\n",
    "| :-: | :-: | :-: |\n",
    "| 1-5 | 6-8 | 9-10 |\n",
    "\n",
    "*  The output of the function must be three statements, each on its own line:\n",
    "\n",
    "    1. `'Negative: {n_negative_scores}'`\n",
    "    2. `'Neutral: {n_neutral_scores}'`\n",
    "    3. `'Positive: {n_positive_scores}'`\n",
    "\n",
    "*Example:*\n",
    "\n",
    "```\n",
    " [IN] score_counter([1, 2, 3, 4, 5, 6, 7, 8, 9, 10])\n",
    "[OUT] 'Negative: 5'\n",
    "      'Neutral: 3'\n",
    "      'Positive: 2'\n",
    "```"
   ]
  },
  {
   "cell_type": "code",
   "execution_count": 16,
   "metadata": {},
   "outputs": [],
   "source": [
    "def score_counter(score_list):\n",
    "    negative_scores = 0\n",
    "    neutral_scores = 0\n",
    "    positive_scores = 0\n",
    "\n",
    "    for score in score_list:\n",
    "        if score >= 9:\n",
    "            positive_scores += 1\n",
    "        elif score >= 6:\n",
    "            neutral_scores += 1\n",
    "        else:\n",
    "            negative_scores += 1\n",
    "\n",
    "    print('Negative:', negative_scores)\n",
    "    print('Neutral:', neutral_scores)\n",
    "    print('Positive:', positive_scores)"
   ]
  },
  {
   "cell_type": "code",
   "execution_count": 17,
   "metadata": {},
   "outputs": [
    {
     "name": "stdout",
     "output_type": "stream",
     "text": [
      "Test 1:\n",
      "Negative: 5\n",
      "Neutral: 1\n",
      "Positive: 4\n",
      "\n",
      "Test 2:\n",
      "Negative: 85\n",
      "Neutral: 253\n",
      "Positive: 112\n",
      "\n",
      "Test 3:\n",
      "Negative: 1935\n",
      "Neutral: 2652\n",
      "Positive: 5413\n"
     ]
    }
   ],
   "source": [
    "import random\n",
    "random.seed(42)\n",
    "\n",
    "possible_scores = list(range(1,11))\n",
    "score_list1 = random.choices(possible_scores, weights=[8,8,8,8,8,3,3,4,20,30], k=10)\n",
    "score_list2 = random.choices(possible_scores, weights=[1,2,3,4,5,10,15,15,7,9], k=450)\n",
    "score_list3 = random.choices(possible_scores, weights=[1,2,3,4,4,5,5,10,15,25], k=10000)\n",
    "\n",
    "print('Test 1:')            # SHOULD OUTPUT (neg, neut, pos):\n",
    "score_counter(score_list1)  # 5, 1, 4\n",
    "print('\\nTest 2:')\n",
    "score_counter(score_list2)  # 85, 253, 112\n",
    "print('\\nTest 3:')\n",
    "score_counter(score_list3)  # 1935, 2652, 5413"
   ]
  },
  {
   "cell_type": "markdown",
   "metadata": {},
   "source": [
    "#### Exercise 2: Create a `for` loop using `if`, `not`, and `in`\n",
    "\n",
    "There is concern that some of the customer feedback scores are fake. One way to check the integrity of the feedback is to identify how many scores came from verified customers.\n",
    "\n",
    "In this task, you are provided with two lists: a list of verified customer IDs and a list of all IDs that left feedback scores. You must validate the data by cross-checking the lists against each other.\n",
    "\n",
    "<br/>\n",
    "\n",
    "* Define a function called `id_validator` that takes two lists as arguments:\n",
    "    *  `verified_ids` - a list containing IDs of verified customers\n",
    "    *  `feedback_ids` - a list containing unique IDs of all posters of feedback scores\n",
    "\n",
    "*  The output of the function must be two statements, each on its own line:\n",
    "    1. `'{num_unverified_ids} of {num_feedback_ids} IDs unverified.'`\n",
    "    2. `'{percent} unverified.'`\n",
    "\n",
    "*Example:*\n",
    "\n",
    "```\n",
    " [IN]  id_validator(verified_ids=['1', '2'], feedback_ids=['1', '2', '3'])\n",
    "[OUT]  '1 of 3 IDs unverified.'\n",
    "       '33.33% unverified.'\n",
    "\n",
    " [IN]  id_validator(verified_ids=['1a', '2b', '3c'], feedback_ids=['1a', '4d'])\n",
    "[OUT]  '1 of 2 IDs unverified.'\n",
    "       '50.0% unverified.'\n",
    "```"
   ]
  },
  {
   "cell_type": "code",
   "execution_count": 18,
   "metadata": {},
   "outputs": [],
   "source": [
    "def id_validator(verified_ids, feedback_ids):\n",
    "    unverified_feedback = 0\n",
    "    for id in feedback_ids:\n",
    "        if id not in verified_ids:\n",
    "            unverified_feedback += 1\n",
    "    percent_unverified = unverified_feedback/len(feedback_ids)*100\n",
    "    print(unverified_feedback, 'of', len(feedback_ids), 'IDs unverified.')\n",
    "    print(str(round(percent_unverified, 2)) + '% unverified.')"
   ]
  },
  {
   "cell_type": "code",
   "execution_count": 21,
   "metadata": {},
   "outputs": [
    {
     "name": "stdout",
     "output_type": "stream",
     "text": [
      "Test 1:\n",
      "4 of 15 IDs unverified.\n",
      "26.67% unverified.\n",
      "\n",
      "Test 2:\n",
      "357 of 900 IDs unverified.\n",
      "39.67% unverified.\n",
      "\n",
      "Test 3:\n",
      "1208 of 14925 IDs unverified.\n",
      "8.09% unverified.\n"
     ]
    }
   ],
   "source": [
    "# RUN THIS CELL TO TEST YOUR FUNCTION\n",
    "import ada_c2_labs as lab\n",
    "\n",
    "# TEST SCENARIOS:                                   # SHOULD OUTPUT:\n",
    "print('Test 1:')\n",
    "ver1, fb1 = lab.lists_gen(8, 20, 15, 15)            # 4 of 15 IDs unverified.\n",
    "id_validator(ver1, fb1)                             # 26.67% unverified.\n",
    "\n",
    "print('\\nTest 2:')\n",
    "ver2, fb2 = lab.lists_gen(8, 1000, 900, 600)        # 357 of 900 IDs unverified.\n",
    "id_validator(ver2, fb2)                             # 39.67% unverified.\n",
    "\n",
    "print('\\nTest 3:')\n",
    "ver3, fb3 = lab.lists_gen(8, 15000, 14925, 13788)   # 1208 of 14925 IDs unverified.\n",
    "id_validator(ver3, fb3)     "
   ]
  },
  {
   "cell_type": "markdown",
   "metadata": {},
   "source": [
    "#### Exercise 3: Create a nested loop\n",
    "\n",
    "You've been asked to calculate the total value of all purchases made by each customer to understand how many customers have spent $100+.\n",
    "\n",
    "*  Write a function called `purchases_100` that accepts the following argument:\n",
    "    * `sales` - a list of lists where each inner list contains the prices of items purchased by a unique customer.\n",
    "\n",
    "* The function must return the number of customers whose purchases summed to $100 or more.\n",
    "\n",
    "*Example:*\n",
    "\n",
    "```\n",
    "sales = [[2.75], [50.0, 50.0], [150.46, 200.12, 111.30]]\n",
    "\n",
    " [IN]  purchases_100(sales)\n",
    "[OUT]  2\n",
    "```"
   ]
  },
  {
   "cell_type": "code",
   "execution_count": 22,
   "metadata": {},
   "outputs": [],
   "source": [
    "def purchases_100(sales):\n",
    "    count = 0                           # Set a counter of totals > 100\n",
    "    for customer in sales:              # Loop over each inner list\n",
    "        customer_total = 0              # Set 0 value of purchases for the inner list\n",
    "        for purchase in customer:       # For price in inner list:\n",
    "            customer_total += purchase  # Add the price to value of purchases for inner list\n",
    "        if customer_total >= 100:       # After looping over all prices in inner list, if\n",
    "                                        # total >= 100\n",
    "            count+=1                    # Increment the counter\n",
    "    return count"
   ]
  },
  {
   "cell_type": "code",
   "execution_count": 24,
   "metadata": {},
   "outputs": [
    {
     "name": "stdout",
     "output_type": "stream",
     "text": [
      "Test 1: 5\n",
      "Test 2: 46\n",
      "Test 3: 470\n"
     ]
    }
   ],
   "source": [
    "# RUN THIS CELL TO TEST YOUR FUNCTION\n",
    "import ada_c2_labs as lab\n",
    "sales1 = lab.sales_data_generator(n_customers=10, seed=1)   # SHOULD OUTPUT:\n",
    "print('Test 1:', purchases_100(sales1))                     # 5\n",
    "\n",
    "sales2 = lab.sales_data_generator(n_customers=150, seed=18)\n",
    "print('Test 2:', purchases_100(sales2))                     # 46\n",
    "\n",
    "sales3 = lab.sales_data_generator(n_customers=1275, seed=42)\n",
    "print('Test 3:', purchases_100(sales3))                     # 470"
   ]
  },
  {
   "cell_type": "markdown",
   "metadata": {},
   "source": [
    "<a id=\"conclusion\"> </a>\n",
    "### 5. Conclusions\n",
    "\n",
    "**While:**\n",
    "* Iterative statements play a major role in automating processes that need to be repeated.\n",
    "* `while` loops allow you to repeat a process until a specific condition is no longer true.\n",
    "* Comparison operators can be used to check one value against another.\n",
    "* Variables can be set as counters and incremented by different amounts to help control your `while` loop.\n",
    "\n",
    "**For:**\n",
    "* Iterative statements play a major role in automating repetitive analyses.\n",
    "* You can use `for` loops to allow you to repeat a process a specified number of times.\n",
    "* `if`, `elif`, `else`, logical, and comparitive operators can be used together within a `for` loop to specify which values to iterate through.\n",
    "* Python built in functions are versatile and can be applied within loops, functions, or stand alone."
   ]
  },
  {
   "cell_type": "markdown",
   "metadata": {},
   "source": []
  }
 ],
 "metadata": {
  "kernelspec": {
   "display_name": "venv",
   "language": "python",
   "name": "python3"
  },
  "language_info": {
   "codemirror_mode": {
    "name": "ipython",
    "version": 3
   },
   "file_extension": ".py",
   "mimetype": "text/x-python",
   "name": "python",
   "nbconvert_exporter": "python",
   "pygments_lexer": "ipython3",
   "version": "3.11.4"
  },
  "orig_nbformat": 4
 },
 "nbformat": 4,
 "nbformat_minor": 2
}
