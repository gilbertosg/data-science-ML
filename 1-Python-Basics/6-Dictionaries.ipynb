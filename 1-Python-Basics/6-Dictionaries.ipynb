{
 "cells": [
  {
   "cell_type": "markdown",
   "metadata": {},
   "source": [
    "## Dictionaries\n",
    "\n",
    "Dictionaries provide a way to store and retrieve data using key-value pairs.\n",
    "\n",
    "1. **[Introduction to dictionaries](#intro)**\n",
    "2. **[Dictionary Methods](#dict)**\n",
    "3. **[Exercises](#exercises)**\n",
    "4. **[Conclusion](#conclusion)**\n",
    "\n",
    "Reference Guide Dictionaries: <a href=\"https://docs.google.com/document/d/1Ks2KJGVvIk3aXQeuQf6OD1LhoVbPj3Yt/edit?usp=drive_link&ouid=117076395228202702809&rtpof=true&sd=true\">link</a>"
   ]
  },
  {
   "cell_type": "markdown",
   "metadata": {},
   "source": [
    "<a id=\"intro\"></a>\n",
    "### 1. Introduction to dictionaries"
   ]
  },
  {
   "cell_type": "code",
   "execution_count": 2,
   "metadata": {},
   "outputs": [
    {
     "data": {
      "text/plain": [
       "'zebras'"
      ]
     },
     "execution_count": 2,
     "metadata": {},
     "output_type": "execute_result"
    }
   ],
   "source": [
    "# Create a dictionary with pens as keys and the animals they contain as values.\n",
    "# Dictionaries can be instantiated using braces.\n",
    "zoo = {\n",
    "    'pen_1': 'penguins',\n",
    "    'pen_2': 'zebras',\n",
    "    'pen_3': 'lions',\n",
    "    }\n",
    "\n",
    "# Selecting the `pen_2` key returns `zebras`, the value stored at that key\n",
    "zoo['pen_2']\n",
    "\n",
    "# You cannot access a dictionary's values by name using bracket indexing\n",
    "# because the computer interprets this as a key, not a value.\n",
    "## zoo['zebras']     ->    This will trhow an error "
   ]
  },
  {
   "cell_type": "code",
   "execution_count": 5,
   "metadata": {},
   "outputs": [
    {
     "data": {
      "text/plain": [
       "'zebras'"
      ]
     },
     "execution_count": 5,
     "metadata": {},
     "output_type": "execute_result"
    }
   ],
   "source": [
    "# Dictionaries can also be instantiated using the dict() function\n",
    "zoo = dict(\n",
    "    pen_1='monkeys',\n",
    "    pen_2='zebras',\n",
    "    pen_3='lions',\n",
    "    )\n",
    "\n",
    "zoo['pen_2']"
   ]
  },
  {
   "cell_type": "code",
   "execution_count": 6,
   "metadata": {},
   "outputs": [
    {
     "data": {
      "text/plain": [
       "{'pen_1': 'monkeys',\n",
       " 'pen_2': 'zebras',\n",
       " 'pen_3': 'lions',\n",
       " 'pen_4': 'crocodiles'}"
      ]
     },
     "execution_count": 6,
     "metadata": {},
     "output_type": "execute_result"
    }
   ],
   "source": [
    "# Assign a new key: value pair to an existing dictionary\n",
    "zoo['pen_4'] = 'crocodiles'\n",
    "zoo\n",
    "\n",
    "# Dictionaries are unordered and do not support numerical indexing\n",
    "## zoo[2]       ->   This will trhow an error"
   ]
  },
  {
   "cell_type": "code",
   "execution_count": 7,
   "metadata": {},
   "outputs": [
    {
     "name": "stdout",
     "output_type": "stream",
     "text": [
      "True\n",
      "False\n"
     ]
    }
   ],
   "source": [
    "# Use the `in` keyword to produce a Boolean of whether a given key exists in a dictionary.\n",
    "print('pen_1' in zoo)\n",
    "print('pen_7' in zoo)"
   ]
  },
  {
   "cell_type": "markdown",
   "metadata": {},
   "source": [
    "<a id=\"dict\"> </a>\n",
    "### 2. Dictionary Methods"
   ]
  },
  {
   "cell_type": "code",
   "execution_count": 8,
   "metadata": {},
   "outputs": [],
   "source": [
    "# Create a list of tuples, each representing the name, age, and position of a\n",
    "# player on a basketball team.\n",
    "team = [\n",
    "    ('Marta', 20, 'center'),\n",
    "    ('Ana', 22, 'point guard'),\n",
    "    ('Gabi', 22, 'shooting guard'),\n",
    "    ('Luz', 21, 'power forward'),\n",
    "    ('Lorena', 19, 'small forward'),\n",
    "    ]"
   ]
  },
  {
   "cell_type": "code",
   "execution_count": 9,
   "metadata": {},
   "outputs": [],
   "source": [
    "# Add new players to the list.\n",
    "team = [\n",
    "    ('Marta', 20, 'center'),\n",
    "    ('Ana', 22, 'point guard'),\n",
    "    ('Gabi', 22, 'shooting guard'),\n",
    "    ('Luz', 21, 'power forward'),\n",
    "    ('Lorena', 19, 'small forward'),\n",
    "    ('Sandra', 19, 'center'),\n",
    "    ('Mari', 18, 'point guard'),\n",
    "    ('Esme', 18, 'shooting guard'),\n",
    "    ('Lin', 18, 'power forward'),\n",
    "    ('Sol', 19, 'small forward'),\n",
    "    ]"
   ]
  },
  {
   "cell_type": "code",
   "execution_count": 10,
   "metadata": {},
   "outputs": [
    {
     "data": {
      "text/plain": [
       "{'center': [('Marta', 20), ('Sandra', 19)],\n",
       " 'point guard': [('Ana', 22), ('Mari', 18)],\n",
       " 'shooting guard': [('Gabi', 22), ('Esme', 18)],\n",
       " 'power forward': [('Luz', 21), ('Lin', 18)],\n",
       " 'small forward': [('Lorena', 19), ('Sol', 19)]}"
      ]
     },
     "execution_count": 10,
     "metadata": {},
     "output_type": "execute_result"
    }
   ],
   "source": [
    "# Instantiate an empty dictionary.\n",
    "new_team = {}\n",
    "\n",
    "# Loop over the tuples in the list of players and unpack their values.\n",
    "for name, age, position in team:\n",
    "    if position in new_team:                    # If position already a key in new_team,\n",
    "        new_team[position].append((name, age))  # append (name, age) tup to list at that value.\n",
    "    else:\n",
    "        new_team[position] = [(name, age)]      # If position not a key in new_team,\n",
    "                                                # create a new key whose value is a list\n",
    "                                                # containing (name, age) tup.\n",
    "new_team"
   ]
  },
  {
   "cell_type": "code",
   "execution_count": 11,
   "metadata": {},
   "outputs": [
    {
     "data": {
      "text/plain": [
       "[('Ana', 22), ('Mari', 18)]"
      ]
     },
     "execution_count": 11,
     "metadata": {},
     "output_type": "execute_result"
    }
   ],
   "source": [
    "# Examine the value at the 'point guard' key.\n",
    "new_team['point guard']"
   ]
  },
  {
   "cell_type": "code",
   "execution_count": 12,
   "metadata": {},
   "outputs": [
    {
     "name": "stdout",
     "output_type": "stream",
     "text": [
      "center\n",
      "point guard\n",
      "shooting guard\n",
      "power forward\n",
      "small forward\n"
     ]
    }
   ],
   "source": [
    "# You can access the a dictionary's keys by looping over them.\n",
    "for x in new_team:\n",
    "    print(x)"
   ]
  },
  {
   "cell_type": "code",
   "execution_count": 13,
   "metadata": {},
   "outputs": [
    {
     "data": {
      "text/plain": [
       "dict_keys(['center', 'point guard', 'shooting guard', 'power forward', 'small forward'])"
      ]
     },
     "execution_count": 13,
     "metadata": {},
     "output_type": "execute_result"
    }
   ],
   "source": [
    "# The keys() method returns the keys of a dictionary.\n",
    "new_team.keys()"
   ]
  },
  {
   "cell_type": "code",
   "execution_count": 14,
   "metadata": {},
   "outputs": [
    {
     "data": {
      "text/plain": [
       "dict_values([[('Marta', 20), ('Sandra', 19)], [('Ana', 22), ('Mari', 18)], [('Gabi', 22), ('Esme', 18)], [('Luz', 21), ('Lin', 18)], [('Lorena', 19), ('Sol', 19)]])"
      ]
     },
     "execution_count": 14,
     "metadata": {},
     "output_type": "execute_result"
    }
   ],
   "source": [
    "# The values() method returns all the values in a dictionary.\n",
    "new_team.values()"
   ]
  },
  {
   "cell_type": "code",
   "execution_count": 15,
   "metadata": {},
   "outputs": [
    {
     "name": "stdout",
     "output_type": "stream",
     "text": [
      "center [('Marta', 20), ('Sandra', 19)]\n",
      "point guard [('Ana', 22), ('Mari', 18)]\n",
      "shooting guard [('Gabi', 22), ('Esme', 18)]\n",
      "power forward [('Luz', 21), ('Lin', 18)]\n",
      "small forward [('Lorena', 19), ('Sol', 19)]\n"
     ]
    }
   ],
   "source": [
    "# The items() method returns both the keys and the values.\n",
    "for a, b in new_team.items():\n",
    "    print(a, b)"
   ]
  },
  {
   "cell_type": "markdown",
   "metadata": {},
   "source": [
    "<a id=\"exercises\"> </a>\n",
    "### 3. Exercises"
   ]
  },
  {
   "cell_type": "markdown",
   "metadata": {},
   "source": [
    "#### Exercise 1: Create a dictionary to store information</h2></summary>\n",
    "\n",
    "Dictionaries are useful when you need a data structure to store information that can be referenced or looked up.\n",
    "\n",
    "In this task you'll begin with three `list` objects:\n",
    "\n",
    "* `state_list` - an ordered list of the state where each data point was recorded\n",
    "* `county_list` - an ordered list of the county where each data point was recorded\n",
    "* `aqi_list` - an ordered list of AQI records\n",
    "\n",
    "As a refresher, here is an example table of some of the information contained in these variables:\n",
    "\n",
    "| state_name | county_name | aqi |\n",
    "| --- | --- | --- |\n",
    "| Arizona | Maricopa | 9 |\n",
    "| California | Alameda | 11 |\n",
    "| California | Sacramento | 35 |\n",
    "| Kentucky | Jefferson | 6 |\n",
    "| Louisiana | East Baton Rouge | 5 |\n"
   ]
  },
  {
   "cell_type": "markdown",
   "metadata": {},
   "source": [
    "##### 1a: Create a list of tuples\n",
    "\n",
    "Begin with an intermediary step to prepare the information to be put in a dictionary.\n",
    "\n",
    "* Convert `state_list`, `county_list`, and `aqi_list` to a list of tuples, where each tuple contains information for a single record: `(state, county, aqi)`.\n",
    "\n",
    "* Assign the result to a variable called `epa_tuples`.\n",
    "\n"
   ]
  },
  {
   "cell_type": "code",
   "execution_count": 20,
   "metadata": {},
   "outputs": [],
   "source": [
    "import ada_c2_labs as lab\n",
    "state_list = lab.fetch_epa('state')\n",
    "county_list = lab.fetch_epa('county')\n",
    "aqi_list = lab.fetch_epa('aqi')\n",
    "\n",
    "epa_tuples = list(zip(state_list, county_list, aqi_list))"
   ]
  },
  {
   "cell_type": "markdown",
   "metadata": {},
   "source": [
    "##### 1b: Create a dictionary\n",
    "\n",
    "Now that you have a list of tuples containing AQI records, use it to create a dictionary that allows you to look up a state and get all the county-AQI pairs associated with that state.\n",
    "\n",
    "* Create a dictionary called `aqi_dict`:\n",
    "    * Use a loop to unpack information from each tuple in `epa_tuples`.\n",
    "    * Your dictionary's keys should be states.\n",
    "    * The value at each key should be a list of tuples, where each tuple is a county-AQI pair of a record from a given state.\n",
    "\n",
    "*Example:*\n",
    "```\n",
    "[IN]  aqi_dict['Vermont']\n",
    "[OUT] [('Chittenden', 18.0),\n",
    "       ('Chittenden', 20.0),\n",
    "       ('Chittenden', 3.0),\n",
    "       ('Chittenden', 49.0),\n",
    "       ('Rutland', 15.0),\n",
    "       ('Chittenden', 3.0),\n",
    "       ('Chittenden', 6.0),\n",
    "       ('Rutland', 3.0),\n",
    "       ('Rutland', 6.0),\n",
    "       ('Chittenden', 5.0),\n",
    "       ('Chittenden', 2.0)]\n",
    "```"
   ]
  },
  {
   "cell_type": "code",
   "execution_count": 21,
   "metadata": {},
   "outputs": [
    {
     "data": {
      "text/plain": [
       "[('Chittenden', 18.0),\n",
       " ('Chittenden', 20.0),\n",
       " ('Chittenden', 3.0),\n",
       " ('Chittenden', 49.0),\n",
       " ('Rutland', 15.0),\n",
       " ('Chittenden', 3.0),\n",
       " ('Chittenden', 6.0),\n",
       " ('Rutland', 3.0),\n",
       " ('Rutland', 6.0),\n",
       " ('Chittenden', 5.0),\n",
       " ('Chittenden', 2.0)]"
      ]
     },
     "execution_count": 21,
     "metadata": {},
     "output_type": "execute_result"
    }
   ],
   "source": [
    "### YOUR CODE HERE ###\n",
    "aqi_dict = {}\n",
    "for state, county, aqi in epa_tuples:\n",
    "    if state in aqi_dict:\n",
    "        aqi_dict[state].append((county, aqi))\n",
    "    else:\n",
    "        aqi_dict[state] = [(county, aqi)]\n",
    "\n",
    "\n",
    "aqi_dict['Vermont']"
   ]
  },
  {
   "cell_type": "markdown",
   "metadata": {},
   "source": [
    "#### Exercise 2: Use the dictionary to retrieve information\n",
    "\n",
    "Now that you have a dictionary of county-AQI readings by state, you can use it to retrieve information and draw further insight from your data.\n",
    "\n",
    "##### 2a: Calculate how many readings were recorded in the state of Arizona\n",
    "\n",
    "Use your Python skills to calculate the number of readings that were recorded in the state of Arizona.\n",
    "\n",
    "*Expected output:*\n",
    "```\n",
    "[OUT] 72\n",
    "```"
   ]
  },
  {
   "cell_type": "code",
   "execution_count": 23,
   "metadata": {},
   "outputs": [
    {
     "data": {
      "text/plain": [
       "72"
      ]
     },
     "execution_count": 23,
     "metadata": {},
     "output_type": "execute_result"
    }
   ],
   "source": [
    "### YOUR CODE HERE ###\n",
    "len(aqi_dict['Arizona'])"
   ]
  },
  {
   "cell_type": "markdown",
   "metadata": {},
   "source": [
    "##### 2b: Calculate the mean AQI from the state of California\n",
    "\n",
    "Use your Python skills to calculate the mean of the AQI readings that were recorded in the state of California. Note that there are many different approaches you can take. Be creative!\n",
    "\n",
    "*Expected output:*\n",
    "```\n",
    "[OUT] 9.412280701754385\n",
    "```"
   ]
  },
  {
   "cell_type": "code",
   "execution_count": 24,
   "metadata": {},
   "outputs": [
    {
     "data": {
      "text/plain": [
       "9.412280701754385"
      ]
     },
     "execution_count": 24,
     "metadata": {},
     "output_type": "execute_result"
    }
   ],
   "source": [
    "### YOUR CODE HERE ###\n",
    "ca_aqi_list = [aqi for county, aqi in aqi_dict['California']]\n",
    "ca_aqi_mean = sum(ca_aqi_list) / len(ca_aqi_list)\n",
    "ca_aqi_mean"
   ]
  },
  {
   "cell_type": "markdown",
   "metadata": {},
   "source": [
    "#### Exercise 3: Define a `county_counter()` function\n",
    "\n",
    "You want to be able to quickly look up how many times a county is represented in a given state's readings. Even though you already have a list containing just county names, it's not safe to rely on the counts from that list alone because some states might have counties with the same name. Therefore, you'll need to use the state-specific information in `aqi_dict` to calculate this information.\n",
    "\n",
    "##### 3a: Write the function\n",
    "\n",
    "* Define a function called `county_counter` that takes one argument:\n",
    "    * `state` - a string of the name of a U.S. state\n",
    "\n",
    "* Return `county_dict` - a `dictionary` object whose keys are counties of the `state` given in the function's argument. For each county key, the corresponding value should be the count of the number of times that county is represented in the AQI data for that state.\n",
    "\n",
    "*Example:*\n",
    "```\n",
    "[IN]  county_counter('Florida')\n",
    "[OUT] {'Duval': 13,\n",
    "       'Hillsborough': 9,\n",
    "       'Broward': 18,\n",
    "       'Miami-Dade': 15,\n",
    "       'Orange': 6,\n",
    "       'Palm Beach': 5,\n",
    "       'Pinellas': 6,\n",
    "       'Sarasota': 9}\n",
    "```"
   ]
  },
  {
   "cell_type": "code",
   "execution_count": 25,
   "metadata": {},
   "outputs": [],
   "source": [
    "def county_counter(state):\n",
    "    county_dict = {}\n",
    "    for county, aqi in aqi_dict[state]:\n",
    "        if county in county_dict:\n",
    "            county_dict[county] +=1\n",
    "        else:\n",
    "            county_dict[county] = 1\n",
    "    return county_dict"
   ]
  },
  {
   "cell_type": "markdown",
   "metadata": {},
   "source": [
    "##### 3b: Use the function to check Washington County, PA.\n",
    "\n",
    "Use the `county_counter()` function to calculate how many AQI readings were from `Washington` County, `Pennsylvania`.\n",
    "\n",
    "*Expected result:*\n",
    "```\n",
    "[OUT] 7\n",
    "```"
   ]
  },
  {
   "cell_type": "code",
   "execution_count": 26,
   "metadata": {},
   "outputs": [
    {
     "data": {
      "text/plain": [
       "7"
      ]
     },
     "execution_count": 26,
     "metadata": {},
     "output_type": "execute_result"
    }
   ],
   "source": [
    "### YOUR CODE HERE ###\n",
    "pa_dict = county_counter('Pennsylvania')\n",
    "pa_dict['Washington']"
   ]
  },
  {
   "cell_type": "markdown",
   "metadata": {},
   "source": [
    "##### 3c: Use the function to check the different counties in Indiana\n",
    "\n",
    "Use the `county_counter` function to obtain a list of all the different counties in the state of Indiana.\n",
    "\n",
    "*Expected result:*\n",
    "```\n",
    "[OUT] dict_keys(['Marion', 'St. Joseph', 'Vanderburgh', 'Allen', 'Vigo'\n",
    "      'Hendricks', 'Lake'])\n",
    "```"
   ]
  },
  {
   "cell_type": "code",
   "execution_count": 27,
   "metadata": {},
   "outputs": [
    {
     "data": {
      "text/plain": [
       "dict_keys(['Marion', 'St. Joseph', 'Vanderburgh', 'Allen', 'Vigo', 'Hendricks', 'Lake'])"
      ]
     },
     "execution_count": 27,
     "metadata": {},
     "output_type": "execute_result"
    }
   ],
   "source": [
    "### YOUR CODE HERE ###\n",
    "county_counter('Indiana').keys()"
   ]
  },
  {
   "cell_type": "markdown",
   "metadata": {},
   "source": [
    "#### Exercise 4: Use sets to determine how many counties share names\n",
    "\n",
    "In this task, you'll create a list of every county from every state, then use it to determine how many counties have the same name.\n",
    "\n",
    "##### 4a: Construct a list of every county from every state\n",
    "\n",
    "1.  * Use `aqi_dict` and `county_counter()` to construct a list of every county from every state.\n",
    "    * Assign the result to a variable called `all_counties`.\n",
    "\n",
    "2. Find the length of `all_counties`.\n",
    "\n",
    "*Expected result:*\n",
    "```\n",
    "[OUT] 277\n",
    "```"
   ]
  },
  {
   "cell_type": "code",
   "execution_count": 28,
   "metadata": {},
   "outputs": [
    {
     "data": {
      "text/plain": [
       "277"
      ]
     },
     "execution_count": 28,
     "metadata": {},
     "output_type": "execute_result"
    }
   ],
   "source": [
    "# 1. ### YOUR CODE HERE ###\n",
    "all_counties = []\n",
    "for state in aqi_dict.keys():\n",
    "    counties = list(county_counter(state).keys())\n",
    "    all_counties += counties\n",
    "    \n",
    "# 2. ### YOUR CODE HERE ###\n",
    "len(all_counties)"
   ]
  },
  {
   "cell_type": "markdown",
   "metadata": {},
   "source": [
    "##### 4b: Calculate how many counties share names\n",
    "\n",
    "Use `all_counties` and your knowledge of sets and list methods to determine how many counties share names.\n",
    "\n",
    "*Expected result:*\n",
    "```\n",
    "[OUT] 41\n",
    "```"
   ]
  },
  {
   "cell_type": "code",
   "execution_count": 29,
   "metadata": {},
   "outputs": [
    {
     "data": {
      "text/plain": [
       "41"
      ]
     },
     "execution_count": 29,
     "metadata": {},
     "output_type": "execute_result"
    }
   ],
   "source": [
    "shared_count = 0 \n",
    "\n",
    "for county in set(all_counties): \n",
    "    count = all_counties.count(county)\n",
    "    if count > 1: \n",
    "        shared_count += count\n",
    "        \n",
    "shared_count"
   ]
  },
  {
   "cell_type": "markdown",
   "metadata": {},
   "source": [
    "<a id=\"conclusion\"> </a>\n",
    "### 4. Conclusion\n",
    "\n",
    "- Python has many built-in functions that are useful for building dictionaries and sets.\n",
    "- Dictionaries in Python are useful for representing data in terms of keys mapped to values.\n",
    "- A set will not allow duplicate values.\n",
    "    - The values a set contains are unchangable and unordered.\n",
    "- Functions and loop iteration can be used to perform calculations on dictionary values.\n",
    "    - Once the values have been calculated, they can be saved to other data types, such as tuples, lists, and sets.\n",
    "- There are many ways to access data stored inside a dictionary."
   ]
  },
  {
   "cell_type": "markdown",
   "metadata": {},
   "source": []
  }
 ],
 "metadata": {
  "kernelspec": {
   "display_name": "venv",
   "language": "python",
   "name": "python3"
  },
  "language_info": {
   "codemirror_mode": {
    "name": "ipython",
    "version": 3
   },
   "file_extension": ".py",
   "mimetype": "text/x-python",
   "name": "python",
   "nbconvert_exporter": "python",
   "pygments_lexer": "ipython3",
   "version": "3.11.4"
  },
  "orig_nbformat": 4
 },
 "nbformat": 4,
 "nbformat_minor": 2
}
