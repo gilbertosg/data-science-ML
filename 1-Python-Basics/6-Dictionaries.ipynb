{
 "cells": [
  {
   "cell_type": "markdown",
   "metadata": {},
   "source": [
    "## Dictionaries\n",
    "\n",
    "Dictionaries provide a way to store and retrieve data using key-value pairs.\n",
    "\n",
    "1. **[Introduction to dictionaries](#intro)**\n",
    "2. **[Dictionary Methods](#dict)**\n",
    "3. **[Exercises](#exercises)**\n",
    "4. **[Conclusion](#conclusion)**\n",
    "\n",
    "Reference Guide Dictionaries: <a href=\"https://docs.google.com/document/d/1Ks2KJGVvIk3aXQeuQf6OD1LhoVbPj3Yt/edit?usp=drive_link&ouid=117076395228202702809&rtpof=true&sd=true\">link</a>"
   ]
  },
  {
   "cell_type": "markdown",
   "metadata": {},
   "source": []
  }
 ],
 "metadata": {
  "language_info": {
   "name": "python"
  },
  "orig_nbformat": 4
 },
 "nbformat": 4,
 "nbformat_minor": 2
}
