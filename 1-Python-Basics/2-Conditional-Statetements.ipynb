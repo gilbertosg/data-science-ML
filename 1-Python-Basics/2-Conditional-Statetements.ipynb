{
 "cells": [
  {
   "cell_type": "markdown",
   "metadata": {},
   "source": [
    "## Conditional Statements\n",
    "\n",
    "Conditional statements are an essential part of programming. They allow you to control the flow of information based on certain conditions. In Python, if, elif, and else statements are used to implement conditional statements.\n",
    "\n",
    "1. **[Make comparisons using operators](operators)**\n",
    "2. **[Use if/elif/else statements to make decisions](#if)**\n",
    "3. **[Exercise 1: Define a comparator function](#exercise)**\n",
    "4. **[Exercise 2: Add logical branching to your function](#exercise2)**\n",
    "5. **[Conclusion](#conclusion)**\n",
    "\n",
    "Reference guide: <a href=\"https://docs.google.com/document/d/1xZ3O4dXMPap6rMFcI1eO1IXVUMNQYc4Q/edit?usp=drive_link&ouid=117076395228202702809&rtpof=true&sd=true\">link</a>\n"
   ]
  },
  {
   "cell_type": "markdown",
   "metadata": {},
   "source": [
    "<a name=\"1\"></a>\n",
    "### 1. Make comparisons using operators"
   ]
  },
  {
   "cell_type": "code",
   "execution_count": 10,
   "metadata": {},
   "outputs": [
    {
     "name": "stdout",
     "output_type": "stream",
     "text": [
      "True\n",
      "False\n",
      "True\n",
      "False\n",
      "True\n",
      "True\n"
     ]
    }
   ],
   "source": [
    "# > checks for greater than\n",
    "print(10>1)\n",
    "\n",
    "# == checks for equality\n",
    "print(\"cat\" == \"dog\")\n",
    "\n",
    "# != checks for inequality\n",
    "print(2 != 3)\n",
    "\n",
    "# Some operators cannot be used between different data types\n",
    "## Gives Error\n",
    "# print(2 < \"2\")\n",
    "\n",
    "# Letters that occur earlier in the alphabet evaluate to less than letters from later in the alphabet.\n",
    "# BOTH sides of an `and` statement must be true to return True.\n",
    "print(\"Yellow\" > \"Cyan\" and \"Brown\" > \"Magenta\")\n",
    "\n",
    "# An `or` statement will return True if EITHER side evaluates to True.\n",
    "print(25 > 50 or 1 != 2)\n",
    "\n",
    "# `not` reverses Boolean evaluation of what follows it.\n",
    "print(not 42 == \"Answer\")"
   ]
  },
  {
   "cell_type": "markdown",
   "metadata": {},
   "source": [
    "<a name=\"if\"></a>\n",
    "### 2. Use if/elif/else statements to make decisions"
   ]
  },
  {
   "cell_type": "code",
   "execution_count": 11,
   "metadata": {},
   "outputs": [],
   "source": [
    "# Define a function that checks validity of username based on length.\n",
    "def hint_username(username):\n",
    "    if len(username) < 8:\n",
    "        print(\"Invalid username. Must be at least 8 characters long.\")\n",
    "    else:\n",
    "        print(\"Valid username.\")"
   ]
  },
  {
   "cell_type": "code",
   "execution_count": 12,
   "metadata": {},
   "outputs": [
    {
     "data": {
      "text/plain": [
       "False"
      ]
     },
     "execution_count": 12,
     "metadata": {},
     "output_type": "execute_result"
    }
   ],
   "source": [
    "# Define a function that uses modulo to check if a number is even.\n",
    "def is_even(number):\n",
    "    if number % 2 == 0:\n",
    "        return True\n",
    "    return False\n",
    "\n",
    "is_even(19)"
   ]
  },
  {
   "cell_type": "code",
   "execution_count": 13,
   "metadata": {},
   "outputs": [
    {
     "name": "stdout",
     "output_type": "stream",
     "text": [
      "Invalid username. Cannot exceed 15 characters.\n"
     ]
    }
   ],
   "source": [
    "# Define a function that checks validity of username based on length.\n",
    "def hint_username(username):\n",
    "    if len(username) < 8:\n",
    "        print(\"Invalid username. Must be at least 8 characters long.\")\n",
    "    elif len(username) > 15:\n",
    "        print(\"Invalid username. Cannot exceed 15 characters.\")\n",
    "    else:\n",
    "        print(\"Valid username.\")\n",
    "\n",
    "hint_username(\"ljñkljfñklasdjflkñadjglk{a\")"
   ]
  },
  {
   "cell_type": "markdown",
   "metadata": {},
   "source": [
    "<a name=\"exercise\"></a>\n",
    "### 3. Exercise 1: Define a comparator function\n",
    "\n",
    "You are a data professional for a movie theater, and your task is to use customers' purchasing data to determine whether or not to send them a marketing email.\n",
    "\n",
    "*   Define a function called `send_email` that accepts the following arguments:\n",
    "    *  `num_visits` - the number of times a customer has visited the theater\n",
    "    *  `visits_email` - the minimum number of visits the customer must have made for them to receive a marketing email\n",
    "*   The function must print either: `Send email.` or `Not enough visits.`\n",
    "\n",
    "*Example:*\n",
    "\n",
    "```\n",
    " [IN] send_email(num_visits=3, visits_email=5)\n",
    "[OUT] 'Not enough visits.'\n",
    "\n",
    " [IN] send_email(num_visits=5, visits_email=5)\n",
    "[OUT] 'Send email.'\n",
    "```"
   ]
  },
  {
   "cell_type": "code",
   "execution_count": 14,
   "metadata": {},
   "outputs": [
    {
     "name": "stdout",
     "output_type": "stream",
     "text": [
      "Not enough visits.\n",
      "Send email.\n",
      "Send email.\n"
     ]
    }
   ],
   "source": [
    "def send_email(num_visits, visits_email):\n",
    "    if num_visits >= visits_email:\n",
    "        print('Send email.')\n",
    "    else:\n",
    "        print('Not enough visits.')\n",
    "\n",
    "\n",
    "send_email(num_visits=3, visits_email=5)    # Should print 'Not enough visits.'\n",
    "send_email(num_visits=5, visits_email=5)    # Should print 'Send email.'\n",
    "send_email(num_visits=15, visits_email=10)  # Should print 'Send email.'"
   ]
  },
  {
   "cell_type": "markdown",
   "metadata": {},
   "source": [
    "<a name=\"exercise2\"></a>\n",
    "### 4. Exercise 2: Add logical branching to your function\n",
    "\n",
    "The theater is offering a promotion where customers who have visited the theater more than a designated number of times will also receive a coupon with their email. Update the function that you created above to include additional logical branching.\n",
    "\n",
    "*   Include an additional argument `visits_coupon` that represents the minimum number of visits the customer must have made for them to receive a coupon with their email.\n",
    "\n",
    "*   The function must print one of three possible messages:\n",
    "    1. `Send email with coupon.`\n",
    "    2. `Send email only.`\n",
    "    3. `Not enough visits.`\n",
    "\n",
    "*Example:*\n",
    "\n",
    "```\n",
    " [IN] send_email(num_visits=3, visits_email=5, visits_coupon=8)\n",
    "[OUT] 'Not enough visits.'\n",
    "\n",
    " [IN] send_email(num_visits=5, visits_email=5, visits_coupon=8)\n",
    "[OUT] `Send email only.`\n",
    "\n",
    " [IN] send_email(num_visits=8, visits_email=5, visits_coupon=8)\n",
    "[OUT] `Send email with coupon.`\n",
    "```"
   ]
  },
  {
   "cell_type": "code",
   "execution_count": 15,
   "metadata": {},
   "outputs": [
    {
     "name": "stdout",
     "output_type": "stream",
     "text": [
      "Not enough visits.\n",
      "Send email only.\n",
      "Send email only.\n",
      "Send email with coupon.\n",
      "Send email with coupon.\n"
     ]
    }
   ],
   "source": [
    "def send_email(num_visits, visits_email, visits_coupon):\n",
    "    if num_visits >= visits_coupon:\n",
    "        print('Send email with coupon.')\n",
    "    elif num_visits >= visits_email:\n",
    "        print('Send email only.')\n",
    "    else:\n",
    "        print('Not enough visits.')\n",
    "\n",
    "\n",
    "send_email(num_visits=3, visits_email=5, visits_coupon=8)   # Should print 'Not enough visits.'\n",
    "send_email(num_visits=5, visits_email=5, visits_coupon=8)   # Should print 'Send email only.'\n",
    "send_email(num_visits=6, visits_email=5, visits_coupon=8)   # Should print 'Send email only.'\n",
    "send_email(num_visits=8, visits_email=5, visits_coupon=8)   # Should print 'Send email with coupon.'\n",
    "send_email(num_visits=10, visits_email=5, visits_coupon=8)  # Should print 'Send email with coupon.'"
   ]
  },
  {
   "cell_type": "markdown",
   "metadata": {},
   "source": [
    "<a name=\"conclusion\"></a>\n",
    "### 5. Conclusion\n",
    "\n",
    "**Conditional Statements:**\n",
    "*   Conditional statements, comparison operators, and logical operators play a major role in automating processes and controlling the branching of code execution.\n",
    "*   Conditional statements allow you to determine whether a specific set of criteria has been met.\n",
    "*   Comparison operators allow you to compare pairs of values.\n",
    "*   Comparison operators such as `>=` and `<=` can be combined to select a range of data within a specific parameter.\n",
    "*   Logical operators such as `and` and `or` allow you to check more than one condition at a time."
   ]
  },
  {
   "cell_type": "markdown",
   "metadata": {},
   "source": []
  }
 ],
 "metadata": {
  "kernelspec": {
   "display_name": "venv",
   "language": "python",
   "name": "python3"
  },
  "language_info": {
   "codemirror_mode": {
    "name": "ipython",
    "version": 3
   },
   "file_extension": ".py",
   "mimetype": "text/x-python",
   "name": "python",
   "nbconvert_exporter": "python",
   "pygments_lexer": "ipython3",
   "version": "3.11.4"
  },
  "orig_nbformat": 4
 },
 "nbformat": 4,
 "nbformat_minor": 2
}
