{
 "cells": [
  {
   "cell_type": "markdown",
   "metadata": {},
   "source": [
    "## Table of Content\n",
    "\n",
    "1. **[Introduction to Numpy](#python_numpy)**\n",
    "2. **[Indexing an Array](#indexing)**\n",
    "3. **[Slicing an Array](#slicing)**\n",
    "4. **[Operations on Array](#operations)**\n",
    "5. **[Arithmetic Functions in Numpy](#arithmetic)**\n",
    "6. **[Concatenation of Array](#concatenation)**\n",
    "7. **[Splitting of Array](#splitting)**"
   ]
  },
  {
   "cell_type": "markdown",
   "metadata": {},
   "source": [
    "<a id=\"python_numpy\"> </a>\n",
    "### 1. Introduction to Numpy\n",
    "<table align=\"left\">\n",
    "    <tr>\n",
    "        <td>\n",
    "            <div align=\"left\", style=\"font-size:120%\">\n",
    "                <font color=\"#21618C\">\n",
    "                    <b>NumPy is a python package that stands for ‘Numerical Python’.<br>\n",
    "                    Numpy is the core library for scientific computing, which contains a powerful n-dimensional array object. It provides tools for integrating C, C++, etc.<br>\n",
    "                    It also contains a powerful N-dimensional array object.<br>\n",
    "                    </b>\n",
    "                </font>\n",
    "            </div>\n",
    "        </td>\n",
    "    </tr>\n",
    "</table>"
   ]
  },
  {
   "cell_type": "code",
   "execution_count": 1,
   "metadata": {},
   "outputs": [],
   "source": [
    "# import the numpy package as np\n",
    "import numpy as np"
   ]
  },
  {
   "cell_type": "markdown",
   "metadata": {},
   "source": [
    "### Python NumPy Array vs List\n",
    "We use python numpy array instead of a list because of the below three reasons:\n",
    "1. Less memory<br>\n",
    "2. Fast<br>\n",
    "3. Convenient"
   ]
  },
  {
   "cell_type": "markdown",
   "metadata": {},
   "source": [
    "**The N-dimensional array**<br>\n",
    "A simple way to create an array from data or simple python data structures lie=ke a list is to use the array() function."
   ]
  },
  {
   "cell_type": "code",
   "execution_count": 2,
   "metadata": {},
   "outputs": [
    {
     "name": "stdout",
     "output_type": "stream",
     "text": [
      "<class 'numpy.ndarray'>\n"
     ]
    }
   ],
   "source": [
    "# Create 2 new lists height and weight\n",
    "person_height = [5.2,  5.4, 4.4, 4.5, 5.6, 6]\n",
    "person_weight = [81, 55, 65, 70, 45, 44]\n",
    "\n",
    "# Create 2 numpy arrays from height and weight\n",
    "person_height = np.array(person_height)\n",
    "person_weight = np.array([person_weight])\n",
    "\n",
    "print(type(person_weight))"
   ]
  },
  {
   "cell_type": "markdown",
   "metadata": {},
   "source": [
    "<a id=\"indexing\"> </a>\n",
    "### 2. Indexing an Array"
   ]
  },
  {
   "cell_type": "markdown",
   "metadata": {},
   "source": [
    "**Indexing in 1 dimension**"
   ]
  },
  {
   "cell_type": "markdown",
   "metadata": {},
   "source": [
    "Each element in the array can be accessed by passing the positional index of the element.\n",
    "* Indexing starts from 0"
   ]
  },
  {
   "cell_type": "code",
   "execution_count": 5,
   "metadata": {},
   "outputs": [
    {
     "name": "stdout",
     "output_type": "stream",
     "text": [
      "33\n"
     ]
    }
   ],
   "source": [
    "# given array\n",
    "my_array = np.array([11, 22, 33, 24, 57, 473])\n",
    "\n",
    "# get the third element\n",
    "print(my_array[2]) "
   ]
  },
  {
   "cell_type": "markdown",
   "metadata": {},
   "source": [
    "**Indexing in 2 dimensions**\n",
    "\n",
    "We can retrieve an element of the 2D array using two indices i and j - i selects the row, and j selects the column:"
   ]
  },
  {
   "cell_type": "code",
   "execution_count": 18,
   "metadata": {},
   "outputs": [
    {
     "name": "stdout",
     "output_type": "stream",
     "text": [
      "[[101 231 321]\n",
      " [412 512 622]\n",
      " [712 821 912]]\n",
      "821\n"
     ]
    }
   ],
   "source": [
    "my_2darray = np.array([[101, 231, 321],\n",
    "              [412, 512, 622],\n",
    "              [712, 821, 912]])\n",
    "\n",
    "print(my_2darray)\n",
    "\n",
    "# get the element in 3rd row (i) and 2nd column (j)\n",
    "print(my_2darray[2, 1])"
   ]
  },
  {
   "cell_type": "markdown",
   "metadata": {},
   "source": [
    "We can also select a single row or column."
   ]
  },
  {
   "cell_type": "code",
   "execution_count": 20,
   "metadata": {},
   "outputs": [
    {
     "name": "stdout",
     "output_type": "stream",
     "text": [
      "[712 821 912]\n",
      "[321 622 912]\n"
     ]
    }
   ],
   "source": [
    "# pick the third ROW from the array\n",
    "print(my_2darray[2])\n",
    "\n",
    "# pick the second COLUMN from the array\n",
    "print(my_2darray[:,2])"
   ]
  },
  {
   "cell_type": "markdown",
   "metadata": {},
   "source": [
    "<a id=\"Slicing\"></a>\n",
    "### 3. Slicing\n",
    "\n",
    "**Slicing a 1D array**\n",
    "\n",
    "The slice notation specifies a start and end value [start:end], where 'start' is inclusive but 'end' is exclusive."
   ]
  },
  {
   "cell_type": "code",
   "execution_count": 21,
   "metadata": {},
   "outputs": [
    {
     "name": "stdout",
     "output_type": "stream",
     "text": [
      "[101, 121, 112, 123, 114]\n",
      "[121, 112, 123]\n",
      "[101, 121, 112]\n",
      "[112, 123, 114]\n",
      "[101, 121, 112, 123, 114]\n"
     ]
    }
   ],
   "source": [
    "my_array = [101, 121, 112, 123, 114]\n",
    "print(my_array)\n",
    "\n",
    "# pick the second, third, and fourth element from the array \n",
    "new_array = my_array[1:4]  \n",
    "print(new_array)\n",
    "\n",
    "# first three elements\n",
    "c = my_array[:3]\n",
    "print(c)\n",
    "\n",
    "# all the elements from element 112 forward\n",
    "d = my_array[2:]    \n",
    "print(d)\n",
    "\n",
    "# get all the elements from start to end of array\n",
    "e = my_array[:]\n",
    "print(e)"
   ]
  },
  {
   "cell_type": "markdown",
   "metadata": {},
   "source": [
    "**Slicing a 2D array**"
   ]
  },
  {
   "cell_type": "code",
   "execution_count": 24,
   "metadata": {},
   "outputs": [
    {
     "name": "stdout",
     "output_type": "stream",
     "text": [
      "[[101 131 122 113 143]\n",
      " [145 165 137 318 193]\n",
      " [240 241 252 253 324]\n",
      " [225 126 727 928 129]]\n",
      "[[137 318]\n",
      " [252 253]\n",
      " [727 928]]\n"
     ]
    }
   ],
   "source": [
    "my_2darray = np.array([[101, 131, 122, 113, 143],\n",
    "               [145, 165, 137, 318, 193],\n",
    "               [240, 241, 252, 253, 324],\n",
    "               [225, 126, 727, 928, 129]])\n",
    "\n",
    "print(my_2darray)\n",
    "\n",
    "# select All rows except the 1st row\n",
    "# select 3rd and 4th column\n",
    "print(my_2darray[1:, 2:4])"
   ]
  },
  {
   "cell_type": "markdown",
   "metadata": {},
   "source": [
    "**Note:** The index returns an element of the array, the slice returns a list of elements."
   ]
  },
  {
   "cell_type": "markdown",
   "metadata": {},
   "source": [
    "<a id=\"operations\"> </a>\n",
    "### 4. Operations on Arrays"
   ]
  },
  {
   "cell_type": "code",
   "execution_count": 26,
   "metadata": {},
   "outputs": [
    {
     "name": "stdout",
     "output_type": "stream",
     "text": [
      "[120 230 310 410 150]\n",
      "[0 1 2 3 4]\n"
     ]
    }
   ],
   "source": [
    "my_array1 = np.array([120, 230, 310, 410, 150])\n",
    "my_array2 = np.arange(5)\n",
    "\n",
    "print(my_array1)\n",
    "print(my_array2)"
   ]
  },
  {
   "cell_type": "code",
   "execution_count": 27,
   "metadata": {},
   "outputs": [
    {
     "data": {
      "text/plain": [
       "array([120, 231, 312, 413, 154])"
      ]
     },
     "execution_count": 27,
     "metadata": {},
     "output_type": "execute_result"
    }
   ],
   "source": [
    "# Adding the two arrays\n",
    "my_array3 = my_array1 + my_array2\n",
    "my_array3"
   ]
  },
  {
   "cell_type": "code",
   "execution_count": 29,
   "metadata": {},
   "outputs": [
    {
     "ename": "ValueError",
     "evalue": "operands could not be broadcast together with shapes (5,) (4,) ",
     "output_type": "error",
     "traceback": [
      "\u001b[0;31m---------------------------------------------------------------------------\u001b[0m",
      "\u001b[0;31mValueError\u001b[0m                                Traceback (most recent call last)",
      "Cell \u001b[0;32mIn [29], line 3\u001b[0m\n\u001b[1;32m      1\u001b[0m \u001b[39m# Sum 2 arrays with different number of elements\u001b[39;00m\n\u001b[1;32m      2\u001b[0m my_array4 \u001b[39m=\u001b[39m np\u001b[39m.\u001b[39marray([\u001b[39m1\u001b[39m,\u001b[39m2\u001b[39m,\u001b[39m3\u001b[39m,\u001b[39m5\u001b[39m])\n\u001b[0;32m----> 3\u001b[0m my_array1 \u001b[39m+\u001b[39;49m my_array4\n",
      "\u001b[0;31mValueError\u001b[0m: operands could not be broadcast together with shapes (5,) (4,) "
     ]
    }
   ],
   "source": [
    "# Sum 2 arrays with different number of elements\n",
    "my_array4 = np.array([1,2,3,5])\n",
    "my_array1 + my_array4"
   ]
  },
  {
   "cell_type": "markdown",
   "metadata": {},
   "source": [
    "<table align=\"left\">\n",
    "    <tr>\n",
    "        <td>\n",
    "            <div align=\"left\">\n",
    "                <font color=\"#21618C\">\n",
    "                    <b>If you try to add arrays with the same dimension but a different number of elements, you get an error.\n",
    "                    </b>\n",
    "                </font>\n",
    "            </div>\n",
    "        </td>\n",
    "    </tr>\n",
    "</table>"
   ]
  },
  {
   "cell_type": "markdown",
   "metadata": {},
   "source": [
    "**Multiplication and Square**\n",
    "Use ' ** ' to compute power of the numbers."
   ]
  },
  {
   "cell_type": "code",
   "execution_count": 32,
   "metadata": {},
   "outputs": [
    {
     "name": "stdout",
     "output_type": "stream",
     "text": [
      "[ 480  920 1240 1640  600]\n",
      "[ 14400  52900  96100 168100  22500]\n"
     ]
    }
   ],
   "source": [
    "# multiply each element in the array by 4 \n",
    "print(my_array1*4)\n",
    "\n",
    "# get square of each element\n",
    "print(my_array1**2)"
   ]
  },
  {
   "cell_type": "markdown",
   "metadata": {},
   "source": [
    "**Using Numpy with Comparison Expressions**"
   ]
  },
  {
   "cell_type": "code",
   "execution_count": 34,
   "metadata": {},
   "outputs": [
    {
     "data": {
      "text/plain": [
       "array([False,  True,  True,  True, False])"
      ]
     },
     "execution_count": 34,
     "metadata": {},
     "output_type": "execute_result"
    }
   ],
   "source": [
    "my_array = np.array([34, 45, 67, 45, 23])\n",
    "\n",
    "# check which elements are greater than or equal to 40\n",
    "# the comparison condition gives boolean output\n",
    "new_array = my_array >= 40\n",
    "new_array"
   ]
  },
  {
   "cell_type": "markdown",
   "metadata": {},
   "source": [
    "Pass the above boolean array to the main array to fetch the values that satisfy the comparison condition."
   ]
  },
  {
   "cell_type": "code",
   "execution_count": 36,
   "metadata": {},
   "outputs": [
    {
     "name": "stdout",
     "output_type": "stream",
     "text": [
      "[45 67 45]\n",
      "[45 67 45]\n"
     ]
    }
   ],
   "source": [
    "# elements greater than or equal to 40\n",
    "print(my_array[new_array])\n",
    "\n",
    "# Rather than creating a separate array of booleans, \n",
    "# you can specify the comparison operation directly on the main array.\n",
    "print(my_array[my_array >= 40])"
   ]
  },
  {
   "cell_type": "markdown",
   "metadata": {},
   "source": [
    "<a id=\"arithmetic\"> </a>\n",
    "### 5. Arithmetic Functions in Numpy\n",
    "\n",
    "**sum():**<br>\n",
    "sum() function adds all the values in the array and gives a scalar output.\n",
    "\n",
    "**min():**<br>\n",
    "min function finds the lowest value in the array.\n",
    "\n",
    "**power():**<br>\n",
    "power function raises the numbers in the array to the given value."
   ]
  },
  {
   "cell_type": "code",
   "execution_count": 38,
   "metadata": {},
   "outputs": [
    {
     "name": "stdout",
     "output_type": "stream",
     "text": [
      "26\n",
      "2\n"
     ]
    },
    {
     "data": {
      "text/plain": [
       "array([125, 343, 512,   8,  64])"
      ]
     },
     "execution_count": 38,
     "metadata": {},
     "output_type": "execute_result"
    }
   ],
   "source": [
    "# given array\n",
    "my_array = np.array([5,7,8,2,4])\n",
    "my_array\n",
    "\n",
    "# add all the elements of 'my_array'\n",
    "print(my_array.sum())\n",
    "\n",
    "# find minimum of 'my_array'\n",
    "print(my_array.min())\n",
    "\n",
    "# get cube of elements of 'my_array'\n",
    "np.power(my_array, 3)"
   ]
  },
  {
   "cell_type": "markdown",
   "metadata": {},
   "source": [
    "<a id=\"concatenation\"> </a>\n",
    "### 6. Concatenation of Array\n",
    "\n",
    "The arrays can be concatenated only if they have same shape, except in the dimension corresponding to the axis of concatenation.\n",
    "\n",
    "**Concatenate 1D array**"
   ]
  },
  {
   "cell_type": "code",
   "execution_count": 40,
   "metadata": {},
   "outputs": [
    {
     "name": "stdout",
     "output_type": "stream",
     "text": [
      "[11 22 13 23 22 12]\n",
      "[11 22 13 23 22 12 23 45]\n"
     ]
    }
   ],
   "source": [
    "# concatenate two 1D arrays\n",
    "array_x = np.array([11, 22, 13])\n",
    "array_y = np.array([23, 22, 12])\n",
    "print(np.concatenate([array_x, array_y]))\n",
    "\n",
    "# you can also concatenate more than two arrays at once\n",
    "array_z = np.array([23,45])\n",
    "print(np.concatenate([array_x, array_y, array_z]))"
   ]
  },
  {
   "cell_type": "markdown",
   "metadata": {},
   "source": [
    "**Concatenate 2D array**"
   ]
  },
  {
   "cell_type": "code",
   "execution_count": 41,
   "metadata": {},
   "outputs": [
    {
     "data": {
      "text/plain": [
       "array([[1, 2, 3],\n",
       "       [4, 5, 6]])"
      ]
     },
     "execution_count": 41,
     "metadata": {},
     "output_type": "execute_result"
    }
   ],
   "source": [
    "# create a 2D array\n",
    "my_array = np.array([[1, 2, 3],\n",
    "                 [4, 5, 6]])\n",
    "my_array"
   ]
  },
  {
   "cell_type": "markdown",
   "metadata": {},
   "source": [
    "**Concatenate along the first axis and second axis**"
   ]
  },
  {
   "cell_type": "code",
   "execution_count": 43,
   "metadata": {},
   "outputs": [
    {
     "name": "stdout",
     "output_type": "stream",
     "text": [
      "[[1 2 3]\n",
      " [4 5 6]\n",
      " [1 2 3]\n",
      " [4 5 6]]\n",
      "[[1 2 3 1 2 3]\n",
      " [4 5 6 4 5 6]]\n"
     ]
    }
   ],
   "source": [
    "# by default concatenate() is along 'axis = 0'\n",
    "print(np.concatenate([my_array, my_array]))\n",
    "\n",
    "# for second axis - columns, use axis =1\n",
    "print(np.concatenate([my_array, my_array], axis=1))"
   ]
  },
  {
   "cell_type": "markdown",
   "metadata": {},
   "source": [
    "**Concatenate 1D and 2D array**"
   ]
  },
  {
   "cell_type": "code",
   "execution_count": 44,
   "metadata": {},
   "outputs": [
    {
     "ename": "ValueError",
     "evalue": "all the input arrays must have same number of dimensions, but the array at index 0 has 1 dimension(s) and the array at index 1 has 2 dimension(s)",
     "output_type": "error",
     "traceback": [
      "\u001b[0;31m---------------------------------------------------------------------------\u001b[0m",
      "\u001b[0;31mValueError\u001b[0m                                Traceback (most recent call last)",
      "Cell \u001b[0;32mIn [44], line 4\u001b[0m\n\u001b[1;32m      1\u001b[0m \u001b[39m# concatenate the 1D and 2D arrays\u001b[39;00m\n\u001b[1;32m      2\u001b[0m \u001b[39m# consider a 1D array -- 'array_x'\u001b[39;00m\n\u001b[1;32m      3\u001b[0m \u001b[39m# consider a 2D array -- 'my_array'\u001b[39;00m\n\u001b[0;32m----> 4\u001b[0m np\u001b[39m.\u001b[39;49mconcatenate((array_x, my_array), axis \u001b[39m=\u001b[39;49m \u001b[39m0\u001b[39;49m)\n",
      "File \u001b[0;32m<__array_function__ internals>:180\u001b[0m, in \u001b[0;36mconcatenate\u001b[0;34m(*args, **kwargs)\u001b[0m\n",
      "\u001b[0;31mValueError\u001b[0m: all the input arrays must have same number of dimensions, but the array at index 0 has 1 dimension(s) and the array at index 1 has 2 dimension(s)"
     ]
    }
   ],
   "source": [
    "# concatenate the 1D and 2D arrays\n",
    "# consider a 1D array -- 'array_x'\n",
    "# consider a 2D array -- 'my_array'\n",
    "np.concatenate((array_x, my_array), axis = 0)"
   ]
  },
  {
   "cell_type": "markdown",
   "metadata": {},
   "source": [
    "<table align=\"left\">\n",
    "    <tr>\n",
    "        <td>\n",
    "            <div align=\"left\">\n",
    "                <font color=\"#21618C\">\n",
    "                    <b>Note: One can not concatenate the arrays with different dimensions\n",
    "                    </b>\n",
    "                </font>\n",
    "            </div>\n",
    "        </td>\n",
    "    </tr>\n",
    "</table>"
   ]
  },
  {
   "cell_type": "markdown",
   "metadata": {},
   "source": [
    "<a id=\"splitting\"> </a>\n",
    "### 7. Splitting of Array\n",
    "\n",
    "Splitting is used to split the array into multiple sub-arrays. It is opposite of concatenation, which is implemented by the functions like split(), hsplit(), and so on.\n",
    "\n",
    "**array_split():** It is used to split the array into sub-arrays. It takes the integer 'N' as the input for the number of splits, even if 'N' does not divide the array into sub-arrays of equal length.In the example, ee split the array of length 8 into 3 sub-arrays; the function 'array_split()' returns <i>8 % 3 (=2)</i> sub-arrays of size <i>8//3 + 1 (=3)</i> and the rest (i.e. one sub-array) of size <i>8//3 (=2)</i>.<br>\n",
    "\n",
    "**split():**\n",
    "\n",
    "**vsplit():**<br>\n",
    "The vsplit() function is used to split an array into multiple sub-arrays vertically (row-wise).\n",
    "\n",
    "**hsplit():**<br>\n",
    "The hsplit() function is used to split an array into multiple sub-arrays horizontally (column-wise)."
   ]
  },
  {
   "cell_type": "code",
   "execution_count": 45,
   "metadata": {},
   "outputs": [
    {
     "data": {
      "text/plain": [
       "[array([0, 1, 2]), array([3, 4, 5]), array([6, 7])]"
      ]
     },
     "execution_count": 45,
     "metadata": {},
     "output_type": "execute_result"
    }
   ],
   "source": [
    "# given array\n",
    "array_x = np.arange(8) \n",
    "\n",
    "# split 'array_x' into 3 sub-arrays using 'array_split'\n",
    "np.array_split(array_x, 3)"
   ]
  },
  {
   "cell_type": "code",
   "execution_count": 46,
   "metadata": {},
   "outputs": [
    {
     "name": "stdout",
     "output_type": "stream",
     "text": [
      "[array([0, 1, 2, 3]), array([4, 5, 6, 7])]\n",
      "[array([0, 1, 2, 3, 4]), array([5, 6]), array([7])]\n"
     ]
    }
   ],
   "source": [
    "# split into sub-arrays\n",
    "print(np.split(array_x, 2))\n",
    "\n",
    "# split occurs at 5th and 7th indices\n",
    "array_y = np.split(array_x,[5,7])\n",
    "print(array_y)"
   ]
  },
  {
   "cell_type": "code",
   "execution_count": 47,
   "metadata": {},
   "outputs": [
    {
     "ename": "ValueError",
     "evalue": "array split does not result in an equal division",
     "output_type": "error",
     "traceback": [
      "\u001b[0;31m---------------------------------------------------------------------------\u001b[0m",
      "\u001b[0;31mValueError\u001b[0m                                Traceback (most recent call last)",
      "Cell \u001b[0;32mIn [47], line 2\u001b[0m\n\u001b[1;32m      1\u001b[0m \u001b[39m# split 'array_x' into 3 sub-arrays\u001b[39;00m\n\u001b[0;32m----> 2\u001b[0m np\u001b[39m.\u001b[39;49msplit(array_x, \u001b[39m3\u001b[39;49m)\n",
      "File \u001b[0;32m<__array_function__ internals>:180\u001b[0m, in \u001b[0;36msplit\u001b[0;34m(*args, **kwargs)\u001b[0m\n",
      "File \u001b[0;32m~/Development/Data-Science-and-Machine-Learning/.venv/lib/python3.9/site-packages/numpy/lib/shape_base.py:872\u001b[0m, in \u001b[0;36msplit\u001b[0;34m(ary, indices_or_sections, axis)\u001b[0m\n\u001b[1;32m    870\u001b[0m     N \u001b[39m=\u001b[39m ary\u001b[39m.\u001b[39mshape[axis]\n\u001b[1;32m    871\u001b[0m     \u001b[39mif\u001b[39;00m N \u001b[39m%\u001b[39m sections:\n\u001b[0;32m--> 872\u001b[0m         \u001b[39mraise\u001b[39;00m \u001b[39mValueError\u001b[39;00m(\n\u001b[1;32m    873\u001b[0m             \u001b[39m'\u001b[39m\u001b[39marray split does not result in an equal division\u001b[39m\u001b[39m'\u001b[39m) \u001b[39mfrom\u001b[39;00m \u001b[39mNone\u001b[39m\n\u001b[1;32m    874\u001b[0m \u001b[39mreturn\u001b[39;00m array_split(ary, indices_or_sections, axis)\n",
      "\u001b[0;31mValueError\u001b[0m: array split does not result in an equal division"
     ]
    }
   ],
   "source": [
    "# split 'array_x' into 3 sub-arrays\n",
    "np.split(array_x, 3)"
   ]
  },
  {
   "cell_type": "markdown",
   "metadata": {},
   "source": [
    "<table align=\"left\">\n",
    "    <tr>\n",
    "        <td>\n",
    "            <div align=\"left\">\n",
    "                <font color=\"#21618C\">\n",
    "                    <b>The split() function does not allow the integer (N) as number of splits, if N does not divide the array into sub-arrays of equal length\n",
    "                    </b>\n",
    "                </font>\n",
    "            </div>\n",
    "        </td>\n",
    "    </tr>\n",
    "</table>"
   ]
  },
  {
   "cell_type": "code",
   "execution_count": 50,
   "metadata": {},
   "outputs": [
    {
     "name": "stdout",
     "output_type": "stream",
     "text": [
      "[[ 0.  1.  2.  3.  4.]\n",
      " [ 5.  6.  7.  8.  9.]\n",
      " [10. 11. 12. 13. 14.]\n",
      " [15. 16. 17. 18. 19.]]\n",
      "[array([[0., 1., 2., 3., 4.],\n",
      "       [5., 6., 7., 8., 9.]]), array([[10., 11., 12., 13., 14.],\n",
      "       [15., 16., 17., 18., 19.]])]\n",
      "[[ 0.  1.  2.  3.]\n",
      " [ 4.  5.  6.  7.]\n",
      " [ 8.  9. 10. 11.]\n",
      " [12. 13. 14. 15.]]\n",
      "[array([[ 0.,  1.],\n",
      "       [ 4.,  5.],\n",
      "       [ 8.,  9.],\n",
      "       [12., 13.]]), array([[ 2.,  3.],\n",
      "       [ 6.,  7.],\n",
      "       [10., 11.],\n",
      "       [14., 15.]])]\n"
     ]
    }
   ],
   "source": [
    "my_array = np.arange(20.0).reshape(4,5)\n",
    "print(my_array)\n",
    "\n",
    "# split vertically\n",
    "print(np.vsplit(my_array, 2))\n",
    "\n",
    "# split horizontally\n",
    "new_array = np.arange(16.0).reshape(4,4)\n",
    "print(new_array)\n",
    "print(np.hsplit(new_array, 2))"
   ]
  }
 ],
 "metadata": {
  "kernelspec": {
   "display_name": "Python 3.9.7 ('.venv': venv)",
   "language": "python",
   "name": "python3"
  },
  "language_info": {
   "codemirror_mode": {
    "name": "ipython",
    "version": 3
   },
   "file_extension": ".py",
   "mimetype": "text/x-python",
   "name": "python",
   "nbconvert_exporter": "python",
   "pygments_lexer": "ipython3",
   "version": "3.9.7"
  },
  "orig_nbformat": 4,
  "vscode": {
   "interpreter": {
    "hash": "81a5641ca7adae58d1483e7b1201e9685d1d1dbba351d841ab815a9e1194f42c"
   }
  }
 },
 "nbformat": 4,
 "nbformat_minor": 2
}
