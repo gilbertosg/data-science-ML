{
 "cells": [
  {
   "cell_type": "markdown",
   "metadata": {},
   "source": [
    "# Exploratory Data Analysis - Validating\n",
    "\n",
    "1. **[Input Validation](#input_validation)**\n",
    "2. **[Example Address Missing Data Unicorn Companies](#unicorn)**\n",
    "    - **[Mask](#masking)**"
   ]
  },
  {
   "cell_type": "markdown",
   "metadata": {},
   "source": [
    "<a id='input_validation'></a>\n",
    "# Input Validation\n",
    "\n",
    "## Objective\n",
    "\n",
    "We will be examining lightning strike data collected by the National Oceanic and Atmospheric Association (NOAA) for the month of August 2018. There are two datasets. The first includes five columns:  \n",
    "\n",
    "|date|center_point_geom|longitude|latitude|number_of_strikes|\n",
    "|---|---|---|---|---|\n",
    "\n",
    "The second dataset contains seven columns:\n",
    "\n",
    "|date|zip_code|city|state|state_code|center_point_geom|number_of_strikes|\n",
    "|---|---|---|---|---|---|---|  \n",
    "\n",
    "The first dataset has two unique colums: `longitude` and `latitude`.  \n",
    "The second dataset has four unique columns: `zip_code`, `city`, `state`, and `state_code`.  \n",
    "There are three columns that are common between them: `date`, `center_point_geom`, and `number_of_strikes`.\n",
    "\n",
    "We want to combine the two datasets into a single dataframe that has all of the information from both datasets. Ideally, both datasets will have the same number of entries for the same locations on the same dates. If they don't, we'll investigate which data is missing."
   ]
  },
  {
   "cell_type": "code",
   "execution_count": 1,
   "metadata": {},
   "outputs": [],
   "source": [
    "# Import statements\n",
    "import pandas as pd\n",
    "import numpy as np\n",
    "import seaborn as sns\n",
    "import datetime\n",
    "from matplotlib import pyplot as plt"
   ]
  },
  {
   "cell_type": "code",
   "execution_count": null,
   "metadata": {},
   "outputs": [],
   "source": [
    "# File needs to be downloaded from here -> https://drive.google.com/file/d/1WvgLWEaXG12A1YPTF3mD7431sALoZ25j/view?usp=sharing\n",
    "\n",
    "df = pd.read_csv('datasets/eda_input_validation_joining_dataset1.csv')"
   ]
  }
 ],
 "metadata": {
  "kernelspec": {
   "display_name": "venv",
   "language": "python",
   "name": "python3"
  },
  "language_info": {
   "codemirror_mode": {
    "name": "ipython",
    "version": 3
   },
   "file_extension": ".py",
   "mimetype": "text/x-python",
   "name": "python",
   "nbconvert_exporter": "python",
   "pygments_lexer": "ipython3",
   "version": "3.11.4"
  }
 },
 "nbformat": 4,
 "nbformat_minor": 2
}
